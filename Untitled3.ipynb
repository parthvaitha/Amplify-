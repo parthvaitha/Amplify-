{
 "cells": [
  {
   "cell_type": "code",
   "execution_count": 1,
   "id": "b506332b",
   "metadata": {},
   "outputs": [],
   "source": [
    "import pandas as pd\n",
    "import numpy as np\n",
    "from matplotlib import pyplot as plt"
   ]
  },
  {
   "cell_type": "code",
   "execution_count": null,
   "id": "c8eb7192",
   "metadata": {},
   "outputs": [],
   "source": [
    "def axed(mm, ticker):\n",
    "    if mm.currentPositions[ticker].positionVolume == 0:\n",
    "        return(\"Not Axed\")\n",
    "    else:\n",
    "        if mm.currentPositions[ticker].positionVolume > 0:\n",
    "            return(\"Currently Long\")\n",
    "        else:\n",
    "            return(\"Currently Short\")"
   ]
  },
  {
   "cell_type": "code",
   "execution_count": null,
   "id": "aaf7887b",
   "metadata": {},
   "outputs": [],
   "source": [
    "apple = []\n",
    "fb = []\n",
    "faang = []\n",
    "for i in Data.priceSeries():\n",
    "    if i[0] == \"AAPL\":\n",
    "        apple.append([i[1], i[2]])\n",
    "    else if i[0] == \"FB\":\n",
    "        fb.append([i[1], i[2]])\n",
    "    else if i[0] == \"FAANG\":\n",
    "        faang.append([i[1], i[2]])\n",
    "        \n",
    "dfapple = pd.DataFrame(apple, columns = ['Date', 'Price'])\n",
    "dffb = pd.DataFrame(fb, columns = ['Date', 'Price'])\n",
    "dffaang = pd.DataFrame(faang, columns = ['Date', 'Price'])\n",
    "\n",
    "dfall = pd.DataFrame\n",
    "dfall['Date'] = dfapple['Date']\n",
    "dfall['AAPL'] = dfapple['Price']\n",
    "dfall['FB'] = dffb['Price']\n",
    "dfall['FAANG'] = dffaang['Price']"
   ]
  },
  {
   "cell_type": "code",
   "execution_count": null,
   "id": "8f6cddf8",
   "metadata": {},
   "outputs": [],
   "source": [
    "for i in range(len(Data.priceRequests())):\n",
    "    trade_request = Data.priceRequests()[i]\n",
    "    axe = axed(mm, trade_request[0])\n",
    "    ref_price = dfall.query[dfall.Date == trade_request[1]][trade_request[0]]\n",
    "    if (axe == \"Not Axed\"):\n",
    "        bid = round(ref_price*0.97, 2)\n",
    "        if (bid < ref_price*0.96):\n",
    "            bid = round(ref_price*0.98, 2)\n",
    "        ask = round(ref_price*1.03, 2)\n",
    "        if (ask > ref_price*1.04):\n",
    "            ask = round(ref_price*1.02, 2)\n",
    "    else if (axe = \"Currently Long\"):\n",
    "        bid = round(ref_price*0.93, 2)\n",
    "        if (bid < ref_price*0.95):\n",
    "            bid = round(ref_price*0.92, 2)\n",
    "        ask = round(ref_price*1.01,2)\n",
    "        if (ask > ref_price*1.02):\n",
    "            ask = round(ref_price*1.005,2)\n",
    "    else:\n",
    "        bid = round(ref_price*0.99, 2)\n",
    "        if (bid < ref_price*0.98):\n",
    "            bid = round(ref_price*0.995, 2)\n",
    "        ask = round(ref_price*1.07,2)\n",
    "        if (ask > ref_price*1.05):\n",
    "            ask = round(ref_price*1.08,2)\n",
    "    qtrade = quotedTrade(bid, ask)\n",
    "    mm.addQuotedTrade(qtrade)\n",
    "    if hf.show(qtrade).hfAction == \"BUY\":\n",
    "        \n",
    "        \n",
    "        "
   ]
  }
 ],
 "metadata": {
  "kernelspec": {
   "display_name": "Python 3 (ipykernel)",
   "language": "python",
   "name": "python3"
  },
  "language_info": {
   "codemirror_mode": {
    "name": "ipython",
    "version": 3
   },
   "file_extension": ".py",
   "mimetype": "text/x-python",
   "name": "python",
   "nbconvert_exporter": "python",
   "pygments_lexer": "ipython3",
   "version": "3.9.7"
  }
 },
 "nbformat": 4,
 "nbformat_minor": 5
}
